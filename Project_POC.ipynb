{
 "cells": [
  {
   "cell_type": "markdown",
   "id": "ccaf6eba",
   "metadata": {},
   "source": [
    "# Scrap data"
   ]
  },
  {
   "cell_type": "markdown",
   "id": "175a4c9f",
   "metadata": {},
   "source": [
    "### import necessary libraries"
   ]
  },
  {
   "cell_type": "code",
   "execution_count": null,
   "id": "aa863a8f",
   "metadata": {},
   "outputs": [],
   "source": [
    "from bs4 import BeautifulSoup, Tag\n",
    "import requests\n",
    "import re\n",
    "import pandas as pd\n",
    "import numpy as np\n",
    "import re\n",
    "from tqdm import tqdm\n",
    "from datetime import datetime"
   ]
  },
  {
   "cell_type": "markdown",
   "id": "36af4cec",
   "metadata": {},
   "source": [
    "### scrap the first page"
   ]
  },
  {
   "cell_type": "code",
   "execution_count": null,
   "id": "b3bd1e8d",
   "metadata": {},
   "outputs": [],
   "source": [
    "# function to extract html document from given url\n",
    "def getHTMLdocument(url):\n",
    "    # give a fake user agent to pass security\n",
    "    headers = {\n",
    "        'User-Agent': 'Mozilla/5.0 (Macintosh; Intel Mac OS X 10.12; rv:55.0) Gecko/20100101 Firefox/55.0',\n",
    "    }\n",
    "    \n",
    "    # request for HTML document of given url\n",
    "    response = requests.get(url, headers=headers)\n",
    "      \n",
    "    # response will be provided in JSON format\n",
    "    return response.text\n",
    "    \n",
    "# assign required credentials\n",
    "# assign URL\n",
    "url_to_scrape = \"https://selogeraumali.com/annonces-immobilieres\"\n",
    "  \n",
    "# create document\n",
    "html_document = getHTMLdocument(url_to_scrape)\n",
    "  \n",
    "# create soap object\n",
    "soup = BeautifulSoup(html_document, 'html.parser')"
   ]
  },
  {
   "cell_type": "code",
   "execution_count": null,
   "id": "851144c6",
   "metadata": {},
   "outputs": [],
   "source": [
    "soup.prettify()"
   ]
  },
  {
   "cell_type": "markdown",
   "id": "d62cbb62",
   "metadata": {},
   "source": [
    "### get the number of pages"
   ]
  },
  {
   "cell_type": "code",
   "execution_count": null,
   "id": "82c57d24",
   "metadata": {},
   "outputs": [],
   "source": [
    "number_of_pages = 1 # there is no display of pages when there is only one page\n",
    "\n",
    "page_numbers = soup.find_all(\"a\", class_=\"page-numbers\")\n",
    "if page_numbers:\n",
    "    page_numbers_list = list(page_numbers)\n",
    "    if len(page_numbers_list) > 1:\n",
    "        last_page = page_numbers_list[-2]\n",
    "        number_of_pages = int(last_page.get_text())"
   ]
  },
  {
   "cell_type": "markdown",
   "id": "4cfdd266",
   "metadata": {},
   "source": [
    "### get the links for all pages"
   ]
  },
  {
   "cell_type": "code",
   "execution_count": null,
   "id": "23a851e0",
   "metadata": {},
   "outputs": [],
   "source": [
    "property_links = []\n",
    "for page_number in tqdm(range(1, number_of_pages + 1)):\n",
    "    document = getHTMLdocument(url_to_scrape + f\"/page/{page_number}\")\n",
    "    page_soup = BeautifulSoup(html_document, 'html.parser')\n",
    "    property_titles = page_soup.find_all(\"h2\", class_=\"property-title\")\n",
    "    property_links.extend(\n",
    "        [\n",
    "            a[\"href\"] for h2 in property_titles for a in h2.children\n",
    "            if isinstance(a, Tag) and a.has_attr(\"href\")\n",
    "        ]\n",
    "    )"
   ]
  },
  {
   "cell_type": "code",
   "execution_count": null,
   "id": "e7730d0d",
   "metadata": {},
   "outputs": [],
   "source": [
    "property_links"
   ]
  },
  {
   "cell_type": "markdown",
   "id": "3c8ce3a2",
   "metadata": {},
   "source": [
    "### Iterate through every link and get the property details"
   ]
  },
  {
   "cell_type": "code",
   "execution_count": null,
   "id": "9e4f3257",
   "metadata": {},
   "outputs": [],
   "source": [
    "description_text_sep = \"\\n\"\n",
    "location_field_prefix = \"location\"\n",
    "info_field_prefix = \"info\"\n",
    "agent_field_prefix = \"agent\"\n",
    "property_records = []\n",
    "\n",
    "for property_link in tqdm(property_links):\n",
    "    property_records.append({})\n",
    "    property_records[-1][\"source\"] = property_link\n",
    "\n",
    "    document = getHTMLdocument(property_link)\n",
    "    property_soup = BeautifulSoup(document, 'html.parser')\n",
    "    \n",
    "    # find property ad title\n",
    "    page_title = property_soup.find(\"h1\")\n",
    "    if page_title:\n",
    "        property_records[-1][\"title\"] = page_title.get_text()\n",
    "    \n",
    "    # find property status\n",
    "    property_status_div = property_soup.find(\"div\", class_=\"property-status\")\n",
    "    if property_status_div:\n",
    "        property_status = property_status_div.find(\"span\")\n",
    "        if property_status:\n",
    "            property_records[-1][\"status\"] = property_status.get_text()\n",
    "        \n",
    "    # find price\n",
    "    property_price_div = property_soup.find(\"div\", class_=\"property-price\")\n",
    "    if property_price_div:\n",
    "        property_price = property_price_div.find(\"span\")\n",
    "        if property_price:\n",
    "            property_records[-1][\"price\"] = property_price.get_text()\n",
    "    \n",
    "    # find description\n",
    "    property_description = property_soup.find_all(\"div\", class_=\"property-description\")\n",
    "    if property_description:\n",
    "        property_description = property_description[0]\n",
    "        description_parts = property_description.find_all(\"p\", recursive=True)\n",
    "\n",
    "        property_records[-1][\"description\"] = description_text_sep.join(\n",
    "            [part.get_text() for part in description_parts]\n",
    "        )\n",
    "\n",
    "    # find location details\n",
    "    property_location = property_soup.find_all(\"div\", class_=\"single-property-element property-location\")\n",
    "    if property_location:\n",
    "        property_location = property_location[0]\n",
    "        location_fields = property_location.find_all(\"strong\", recursive=True)\n",
    "        for field in location_fields:\n",
    "            field_value = field.find_next_sibling(\"span\")\n",
    "            if field_value:\n",
    "                property_records[-1][\n",
    "                    f\"{location_field_prefix}-{field.get_text()}\"\n",
    "                ] = field_value.get_text()\n",
    "                \n",
    "    # find additional info\n",
    "    property_info = property_soup.find(\"div\", id=\"ere-overview\")\n",
    "    if property_info:\n",
    "        info_fields = property_info.find_all(\"strong\", recursive=True)\n",
    "        for field in info_fields:\n",
    "            field_value = field.find_next_sibling(\"span\")\n",
    "            if field_value:\n",
    "                property_records[-1][\n",
    "                    f\"{info_field_prefix}-{field.get_text()}\"\n",
    "                ] = field_value.get_text()\n",
    "    \n",
    "    \n",
    "    property_info = property_soup.find(\"div\", id=\"ere-features\")\n",
    "    if property_info:\n",
    "        info_fields = property_info.find_all(\"a\", recursive=True)\n",
    "        for field in info_fields:\n",
    "            property_records[-1][\n",
    "                f\"{info_field_prefix}-{field.get_text()}\"\n",
    "            ] = True\n",
    "    \n",
    "    # find agent info\n",
    "    property_agent_heading = property_soup.find(\"div\", class_=\"agent-heading\")\n",
    "    if property_agent_heading:\n",
    "        agent_name = property_agent_heading.find(\"a\", recursive=True)\n",
    "        if agent_name:\n",
    "            property_records[-1][\"agent_name\"] = agent_name.get_text()\n",
    "        agent_type = property_agent_heading.find(\"span\", recursive=True)\n",
    "        if agent_type:\n",
    "            property_records[-1][\"agent_type\"] = agent_type.get_text()\n",
    "    \n",
    "    property_agent_mobile = property_soup.find(\"div\", class_=\"agent-mobile\")\n",
    "    if property_agent_mobile:\n",
    "        agent_mobile = property_agent_mobile.find(\"span\", recursive=True)\n",
    "        if agent_mobile:\n",
    "            property_records[-1][\"agent_mobile\"] = agent_mobile.get_text()\n",
    "    \n",
    "    property_agent_email = property_soup.find(\"div\", class_=\"agent-email\")\n",
    "    if property_agent_email:\n",
    "        agent_email = property_agent_email.find(\"span\", recursive=True)\n",
    "        if agent_email:\n",
    "            property_records[-1][\"agent_email\"] = agent_mobile.get_text()\n",
    "    \n",
    "    # find ratings info\n",
    "    property_ratings_average = property_soup.find(\"span\", class_=\"ratings-average\")\n",
    "    if property_ratings_average:\n",
    "        property_records[-1][\"ratings_average\"] = property_ratings_average.get_text()\n",
    "    \n",
    "    property_ratings_count = property_soup.find(\"span\", class_=\"ratings-count\")\n",
    "    if property_ratings_count:\n",
    "        property_records[-1][\"ratings_count\"] = property_ratings_count.get_text()\n",
    "    \n",
    "    \n",
    "    property_ratings_overall_rating = property_soup.find(\"div\", class_=\"overall-rating\")\n",
    "    if property_ratings_overall_rating:\n",
    "        property_ratings_details = property_ratings_overall_rating.find_all(\"li\")\n",
    "        if property_ratings_details:\n",
    "            for ratings_detail in property_ratings_details:\n",
    "                ratings_detail_label = ratings_detail.find(\"span\", class_=\"label\")\n",
    "                if ratings_detail_label:\n",
    "                    ratings_detail_pct = ratings_detail_label.find_next_sibling(\"span\", class_=\"label\")\n",
    "                    if ratings_detail_pct:\n",
    "                        property_records[-1][\n",
    "                            f\"ratings_{ratings_detail_label.get_text()}\"\n",
    "                        ] = ratings_detail_pct.get_text()\n",
    "    \n",
    "    property_date = property_soup.find(\"span\", class_=\"property-date\")\n",
    "    if property_date:\n",
    "        property_records[-1][\"property_date\"] = property_date.get_text()\n",
    "    \n",
    "    property_reviews_ul = property_soup.find(\"ul\", class_=\"reviews-list\")\n",
    "    if property_reviews_ul:\n",
    "        property_reviews = property_reviews_ul.find_all(\"li\")\n",
    "        if property_reviews:\n",
    "            print(property_link)\n",
    "            print(property_reviews)"
   ]
  },
  {
   "cell_type": "code",
   "execution_count": null,
   "id": "c03afda3",
   "metadata": {},
   "outputs": [],
   "source": [
    "property_records"
   ]
  },
  {
   "cell_type": "markdown",
   "id": "5983a89e",
   "metadata": {},
   "source": [
    "### Create pandas dataframe from records and save data as csv"
   ]
  },
  {
   "cell_type": "code",
   "execution_count": null,
   "id": "26b8e18d",
   "metadata": {},
   "outputs": [],
   "source": [
    "property_df = pd.DataFrame.from_records(property_records)"
   ]
  },
  {
   "cell_type": "code",
   "execution_count": null,
   "id": "45246931",
   "metadata": {},
   "outputs": [],
   "source": [
    "property_df.to_csv(\"properties.csv\", index=None)\n",
    "# To Do: store the data in hadoop or in other file storage"
   ]
  },
  {
   "cell_type": "markdown",
   "id": "27323e89",
   "metadata": {},
   "source": [
    "# Process data"
   ]
  },
  {
   "cell_type": "code",
   "execution_count": null,
   "id": "0e27c227",
   "metadata": {},
   "outputs": [],
   "source": [
    "property_df = pd.read_csv(\"properties.csv\")"
   ]
  },
  {
   "cell_type": "code",
   "execution_count": null,
   "id": "df813380",
   "metadata": {},
   "outputs": [],
   "source": [
    "property_df.head()"
   ]
  },
  {
   "cell_type": "markdown",
   "id": "e771ba7f",
   "metadata": {},
   "source": [
    "# Clean data"
   ]
  },
  {
   "cell_type": "markdown",
   "id": "cdd1ab87",
   "metadata": {},
   "source": [
    "### clean price"
   ]
  },
  {
   "cell_type": "code",
   "execution_count": null,
   "id": "6fb2f947",
   "metadata": {},
   "outputs": [],
   "source": [
    "import numpy as np\n",
    "\n",
    "property_df.loc[property_df[\"price\"] == \"Prix sur demande\", \"price\"] = np.nan"
   ]
  },
  {
   "cell_type": "code",
   "execution_count": null,
   "id": "1b112064",
   "metadata": {},
   "outputs": [],
   "source": [
    "property_df.head()"
   ]
  },
  {
   "cell_type": "code",
   "execution_count": null,
   "id": "4cd8fb3e",
   "metadata": {},
   "outputs": [],
   "source": [
    "prices_without_dot = property_df.loc[~property_df[\"price\"].isna(), \"price\"].str.replace(r\"\\.\", \"\", regex=True)"
   ]
  },
  {
   "cell_type": "code",
   "execution_count": null,
   "id": "eee385ca",
   "metadata": {},
   "outputs": [],
   "source": [
    "prices_without_dot"
   ]
  },
  {
   "cell_type": "code",
   "execution_count": null,
   "id": "062adfd5",
   "metadata": {},
   "outputs": [],
   "source": [
    "property_df[\"currency\"] = prices_without_dot.str.extract(r\"[0-9]+ ([a-zA-Z]+) \\/?\")"
   ]
  },
  {
   "cell_type": "code",
   "execution_count": null,
   "id": "d2153ed7",
   "metadata": {},
   "outputs": [],
   "source": [
    "property_df[\"currency\"] .value_counts()"
   ]
  },
  {
   "cell_type": "code",
   "execution_count": null,
   "id": "64e485e5",
   "metadata": {},
   "outputs": [],
   "source": [
    "# Fcfa is the only currency so it's safe to fill all the column with it\n",
    "property_df[\"currency\"] = \"Fcfa\""
   ]
  },
  {
   "cell_type": "code",
   "execution_count": null,
   "id": "1c4a3c97",
   "metadata": {},
   "outputs": [],
   "source": [
    "property_df[\"info-Surface\"] = property_df[\"info-Surface\"].str.extract(r\"([0-9]+) m2\")\n",
    "property_df[\"info-Surface du terrain\"] = property_df[\"info-Surface du terrain\"].str.extract(r\"([0-9]+) m2\")"
   ]
  },
  {
   "cell_type": "code",
   "execution_count": null,
   "id": "4f1f1b68",
   "metadata": {},
   "outputs": [],
   "source": [
    "property_df[\"info-Annexe\"] = property_df[\"info-Annexe\"].str.extract(r\"([0-9]+) chambre\")"
   ]
  },
  {
   "cell_type": "code",
   "execution_count": null,
   "id": "8b74cee2",
   "metadata": {},
   "outputs": [],
   "source": [
    "property_df[\"ratings_count\"] = property_df[\"ratings_count\"].str.extract(r\"([0-9]+) Avis\").astype(int)\n",
    "property_df[\"ratings_1\"] = (property_df[\"ratings_1\"].str.extract(r\"([0-9]+) %\").astype(int) / 100).astype(float)\n",
    "property_df[\"ratings_2\"] = (property_df[\"ratings_2\"].str.extract(r\"([0-9]+) %\").astype(int) / 100).astype(float)\n",
    "property_df[\"ratings_3\"] = (property_df[\"ratings_3\"].str.extract(r\"([0-9]+) %\").astype(int) / 100).astype(float)\n",
    "property_df[\"ratings_4\"] = (property_df[\"ratings_4\"].str.extract(r\"([0-9]+) %\").astype(int) / 100).astype(float)\n",
    "property_df[\"ratings_5\"] = (property_df[\"ratings_5\"].str.extract(r\"([0-9]+) %\").astype(int) / 100).astype(float)"
   ]
  },
  {
   "cell_type": "code",
   "execution_count": null,
   "id": "fa2e4140",
   "metadata": {},
   "outputs": [],
   "source": [
    "property_df[\"price\"] = prices_without_dot.str.extract(r\"([0-9]+)\").astype(float)"
   ]
  },
  {
   "cell_type": "code",
   "execution_count": null,
   "id": "9f40bb4a",
   "metadata": {},
   "outputs": [],
   "source": [
    "months_fr_to_en = {\n",
    "    \"janvier\": \"January\",\n",
    "    \"février\": \"February\",\n",
    "    \"mars\": \"March\",\n",
    "    \"avril\": \"April\",\n",
    "    \"mai\": \"May\",\n",
    "    \"juin\": \"June\",\n",
    "    \"juillet\": \"July\",\n",
    "    \"août\": \"August\",\n",
    "    \"septembre\": \"September\",\n",
    "    \"octobre\": \"October\",\n",
    "    \"novembre\": \"November\",\n",
    "    \"décembre\": \"December\"\n",
    "}\n",
    "property_df[\"property_date\"] = property_df[\"property_date\"].apply(\n",
    "    lambda date: datetime.strptime(\n",
    "        re.sub(\n",
    "            r\"([0-9]{1,2}) ([a-zA-zéâ]+) ([0-9]{4})\",\n",
    "            lambda m: f\"{m.group(1)} {months_fr_to_en.get(m.group(2))} {m.group(3)}\" if len(m.groups()) == 3 else np.nan,\n",
    "            date.strip()\n",
    "        ),\n",
    "        '%d %B %Y'\n",
    "    )\n",
    ")"
   ]
  },
  {
   "cell_type": "code",
   "execution_count": null,
   "id": "74c0dc16",
   "metadata": {},
   "outputs": [],
   "source": [
    "property_df.head()"
   ]
  },
  {
   "cell_type": "code",
   "execution_count": null,
   "id": "884352a6",
   "metadata": {},
   "outputs": [],
   "source": [
    "property_df[property_df[\"info- Gardiennage\"] == property_df[\"info- Service de gardiennage\"]][[\"info- Gardiennage\", \"info- Service de gardiennage\"]]"
   ]
  },
  {
   "cell_type": "markdown",
   "id": "5cbf3eee",
   "metadata": {},
   "source": [
    "### clean column names"
   ]
  },
  {
   "cell_type": "code",
   "execution_count": null,
   "id": "d2aba1ab",
   "metadata": {
    "scrolled": true
   },
   "outputs": [],
   "source": [
    "list(property_df.columns)"
   ]
  },
  {
   "cell_type": "code",
   "execution_count": null,
   "id": "f1907e61",
   "metadata": {},
   "outputs": [],
   "source": [
    "property_df.rename(\n",
    "    columns={\n",
    "         'location-Adresse:': 'location_adress',\n",
    "         'location-Pays:': 'location_country',\n",
    "         'location-Ville / Région:': 'location_city',\n",
    "         'location-Quartier / Cercle:': 'location_district',\n",
    "         'location-Voisinage:': 'location_neighborhood',\n",
    "         'info-Référence': 'info_reference',\n",
    "         \"info-Type d'annonce\": 'info_ad_type',\n",
    "         \"info-Statut de l'annonce\": 'info_ad_status',\n",
    "         'info-Pièces': 'info_rooms',\n",
    "         'info-Chambres': 'info_bedrooms',\n",
    "         'info-Salles de bains': 'info_bathrooms',\n",
    "         'info-Garages': 'info_garages',\n",
    "         'info-Salon': 'info_living_rooms',\n",
    "         'info-Annexe': 'info_annex_bedrooms',\n",
    "         'location-Code postal:': 'info_postal_code',\n",
    "         'info-Année de construction': 'info_building_year',\n",
    "         'info-Surface': 'info_surface',\n",
    "         'info-Surface du terrain': 'info_land_surface',\n",
    "         'info-Étiquette': 'info_tag',\n",
    "         'info-Salle à manger': 'info_dining_room',\n",
    "         'info-Cuisine': 'info_kitchen',\n",
    "         'info-Balcon / Terasse': 'info_balcony',\n",
    "         'info- Accès internet / Wifi': 'info_internet',\n",
    "         'info- Armoires': 'info_wardrobe',\n",
    "         'info- Bouilloire': 'info_kettle',\n",
    "         'info- Chaises': 'info_chairs',\n",
    "         'info- Chauffe-eau': 'info_water_heater',\n",
    "         'info- Climatisation': 'info_air_conditioner',\n",
    "         'info- Commodes': 'info_dressers',\n",
    "         'info- Électricité prépayé': 'info_prepaid_electricity',\n",
    "         'info- Fer à repasser': 'info_iron',\n",
    "         'info- Four micro-ondes': 'info_microwave',\n",
    "         'info- Groupe électrogène': 'info_generator',\n",
    "         'info- Lit pour adulte': 'info_adult_bed',\n",
    "         'info- Réfrigérateur': 'info_fridge',\n",
    "         'info- Tables': 'info_tables',\n",
    "         'info- Télévision': 'info_tv',\n",
    "         'info- Ventilateur': 'info_fan',\n",
    "         'info- Machine à laver': 'info_washing_machine',\n",
    "         'info- Gardiennage': 'info_security',\n",
    "         'info-Magasin': 'info_box',\n",
    "         'info-Annexes': 'info_dependencies',\n",
    "         'info- Électricité': 'info_electricity',\n",
    "         'info-Jardin': 'info_garden',\n",
    "         'info- Bibliothèque': 'info_library',\n",
    "         'info- Buffets': 'info_buffets',\n",
    "         'info- Chaines TV numérique': 'info_digital_tv_channels',\n",
    "         'info- Coiffeuse': 'info_dressing_table',\n",
    "         'info- Cuisine entièrement équipée': 'info_fully_equipped_kitchen',\n",
    "         'info- Entièrement meublé': 'info_fully_furnished',\n",
    "         'info-Piscine': 'info_swimming_pool',\n",
    "    },\n",
    "    inplace=True\n",
    ")"
   ]
  },
  {
   "cell_type": "code",
   "execution_count": null,
   "id": "3b75f5a2",
   "metadata": {},
   "outputs": [],
   "source": [
    "# There are duplicate columns, we should remove them\n",
    "to_remove = [\"info-Prix\", 'info- piscine', 'info- Service de gardiennage']\n",
    "property_df.drop(columns=to_remove, axis=1, inplace=True)"
   ]
  },
  {
   "cell_type": "markdown",
   "id": "f533adf2",
   "metadata": {},
   "source": [
    "### Fill na"
   ]
  },
  {
   "cell_type": "code",
   "execution_count": null,
   "id": "4ddae9d3",
   "metadata": {},
   "outputs": [],
   "source": [
    "missed_values_pct = (100 * property_df.isna().sum() / len(property_df)).sort_values(ascending=False)\n",
    "missed_values_pct.sort_values(ascending=False)\n",
    "missing_values_df = pd.DataFrame({\"column\": list(missed_values_pct.index), \"missing_pct\": missed_values_pct}).reset_index().drop(\"index\", axis=1)\n",
    "missing_values_df[missing_values_df[\"missing_pct\"] > 0]"
   ]
  },
  {
   "cell_type": "code",
   "execution_count": null,
   "id": "ec08c9b5",
   "metadata": {},
   "outputs": [],
   "source": [
    "property_df[\"info_swimming_pool\"].fillna(False, inplace=True)\n",
    "property_df[\"info_swimming_pool\"] = property_df[\"info_swimming_pool\"].astype(bool)\n",
    "\n",
    "property_df[\"info_library\"].fillna(False, inplace=True)\n",
    "property_df[\"info_library\"] = property_df[\"info_library\"].astype(bool)\n",
    "\n",
    "property_df[\"info_generator\"].fillna(False, inplace=True)\n",
    "property_df[\"info_generator\"] = property_df[\"info_generator\"].astype(bool)\n",
    "\n",
    "property_df[\"info_adult_bed\"].fillna(False, inplace=True)\n",
    "property_df[\"info_adult_bed\"] = property_df[\"info_adult_bed\"].astype(bool)\n",
    "\n",
    "property_df[\"info_kettle\"].fillna(False, inplace=True)\n",
    "property_df[\"info_kettle\"] = property_df[\"info_kettle\"].astype(bool)\n",
    "\n",
    "property_df[\"info_postal_code\"].fillna(\"\", inplace=True)\n",
    "property_df[\"info_postal_code\"] = property_df[\"info_postal_code\"].astype(str)\n",
    "\n",
    "property_df[\"info_internet\"].fillna(False, inplace=True)\n",
    "property_df[\"info_internet\"] = property_df[\"info_internet\"].astype(bool)\n",
    "\n",
    "property_df[\"info_security\"].fillna(False, inplace=True)\n",
    "property_df[\"info_security\"] = property_df[\"info_security\"].astype(bool)\n",
    "\n",
    "property_df[\"info_buffets\"].fillna(False, inplace=True)\n",
    "property_df[\"info_buffets\"] = property_df[\"info_buffets\"].astype(bool)\n",
    "\n",
    "property_df[\"info_digital_tv_channels\"].fillna(False, inplace=True)\n",
    "property_df[\"info_digital_tv_channels\"] = property_df[\"info_digital_tv_channels\"].astype(bool)\n",
    "\n",
    "property_df[\"info_dressing_table\"].fillna(False, inplace=True)\n",
    "property_df[\"info_dressing_table\"] = property_df[\"info_dressing_table\"].astype(bool)\n",
    "\n",
    "property_df[\"info_fully_equipped_kitchen\"].fillna(False, inplace=True)\n",
    "property_df[\"info_fully_equipped_kitchen\"] = property_df[\"info_fully_equipped_kitchen\"].astype(bool)\n",
    "\n",
    "property_df[\"info_fully_furnished\"].fillna(False, inplace=True)\n",
    "property_df[\"info_fully_furnished\"] = property_df[\"info_fully_furnished\"].astype(bool)\n",
    "\n",
    "property_df[\"info_iron\"].fillna(False, inplace=True)\n",
    "property_df[\"info_iron\"] = property_df[\"info_iron\"].astype(bool)\n",
    "\n",
    "property_df[\"info_dressers\"].fillna(False, inplace=True)\n",
    "property_df[\"info_dressers\"] = property_df[\"info_dressers\"].astype(bool)\n",
    "\n",
    "property_df[\"info_chairs\"].fillna(False, inplace=True)\n",
    "property_df[\"info_chairs\"] = property_df[\"info_chairs\"].astype(bool)\n",
    "\n",
    "property_df[\"info_tables\"].fillna(False, inplace=True)\n",
    "property_df[\"info_tables\"] = property_df[\"info_tables\"].astype(bool)\n",
    "\n",
    "property_df[\"info_microwave\"].fillna(False, inplace=True)\n",
    "property_df[\"info_microwave\"] = property_df[\"info_microwave\"].astype(bool)\n",
    "\n",
    "property_df[\"info_fridge\"].fillna(False, inplace=True)\n",
    "property_df[\"info_fridge\"] = property_df[\"info_fridge\"].astype(bool)\n",
    "\n",
    "property_df[\"info_chairs\"].fillna(False, inplace=True)\n",
    "property_df[\"info_chairs\"] = property_df[\"info_chairs\"].astype(bool)\n",
    "\n",
    "property_df[\"info_tv\"].fillna(False, inplace=True)\n",
    "property_df[\"info_tv\"] = property_df[\"info_tv\"].astype(bool)\n",
    "\n",
    "property_df[\"info_washing_machine\"].fillna(False, inplace=True)\n",
    "property_df[\"info_washing_machine\"] = property_df[\"info_washing_machine\"].astype(bool)\n",
    "\n",
    "property_df[\"info_electricity\"].fillna(False, inplace=True)\n",
    "property_df[\"info_electricity\"] = property_df[\"info_electricity\"].astype(bool)\n",
    "\n",
    "property_df[\"info_box\"].fillna(False, inplace=True)\n",
    "property_df[\"info_box\"] = property_df[\"info_box\"].astype(bool)\n",
    "\n",
    "property_df[\"info_wardrobe\"].fillna(False, inplace=True)\n",
    "property_df[\"info_wardrobe\"] = property_df[\"info_wardrobe\"].astype(bool)\n",
    "\n",
    "property_df[\"info_garden\"].fillna(False, inplace=True)\n",
    "property_df[\"info_garden\"] = property_df[\"info_garden\"].astype(bool)\n",
    "\n",
    "property_df[\"info_dining_room\"].fillna(False, inplace=True)\n",
    "property_df[\"info_dining_room\"] = property_df[\"info_dining_room\"].astype(bool)\n",
    "\n",
    "property_df[\"info_prepaid_electricity\"].fillna(False, inplace=True)\n",
    "property_df[\"info_prepaid_electricity\"] = property_df[\"info_prepaid_electricity\"].astype(bool)\n",
    "\n",
    "property_df[\"info_air_conditioner\"].fillna(False, inplace=True)\n",
    "property_df[\"info_air_conditioner\"] = property_df[\"info_air_conditioner\"].astype(bool)\n",
    "\n",
    "property_df[\"info_dependencies\"].fillna(False, inplace=True)\n",
    "property_df[\"info_dependencies\"] = property_df[\"info_dependencies\"].astype(bool)\n",
    "\n",
    "property_df[\"info_balcony\"].fillna(0, inplace=True)\n",
    "property_df[\"info_balcony\"] = property_df[\"info_balcony\"].astype(int)\n",
    "\n",
    "property_df[\"info_fan\"].fillna(False, inplace=True)\n",
    "property_df[\"info_fan\"] = property_df[\"info_fan\"].astype(bool)\n",
    "\n",
    "property_df[\"info_water_heater\"].fillna(False, inplace=True)\n",
    "property_df[\"info_water_heater\"] = property_df[\"info_water_heater\"].astype(bool)\n",
    "\n",
    "property_df[\"info_kitchen\"].fillna(False, inplace=True)\n",
    "property_df[\"info_kitchen\"] = property_df[\"info_kitchen\"].astype(bool)\n",
    "\n",
    "property_df[\"location_neighborhood\"].fillna(\"\", inplace=True)\n",
    "property_df[\"location_neighborhood\"] = property_df[\"location_neighborhood\"].astype(str)\n",
    "\n",
    "property_df[\"info_garages\"].fillna(0, inplace=True)\n",
    "property_df[\"info_garages\"] = property_df[\"info_garages\"].astype(int)\n",
    "\n",
    "property_df[\"info_tag\"].fillna(\"\", inplace=True)\n",
    "property_df[\"info_tag\"] = property_df[\"info_tag\"].astype(str)\n",
    "\n",
    "property_df[\"agent_mobile\"].fillna(\"\", inplace=True)\n",
    "property_df[\"agent_mobile\"] = property_df[\"agent_mobile\"].astype(str)\n",
    "\n",
    "property_df[\"info_building_year\"] = property_df[\"info_building_year\"].astype(float)\n",
    "property_df[\"ratings_average\"] = property_df[\"ratings_average\"].astype(float)\n",
    "property_df[\"info_surface\"] = property_df[\"info_surface\"].astype(float)\n",
    "property_df[\"info_land_surface\"] = property_df[\"info_land_surface\"].astype(float)\n",
    "property_df['info_annex_bedrooms'] = property_df['info_annex_bedrooms'].astype(float)"
   ]
  },
  {
   "cell_type": "code",
   "execution_count": null,
   "id": "a0573ec4",
   "metadata": {},
   "outputs": [],
   "source": [
    "missed_values_pct = (100 * property_df.isna().sum() / len(property_df)).sort_values(ascending=False)\n",
    "missed_values_pct.sort_values(ascending=False)\n",
    "missing_values_df = pd.DataFrame({\"column\": list(missed_values_pct.index), \"missing_pct\": missed_values_pct}).reset_index().drop(\"index\", axis=1)\n",
    "missing_values_df[missing_values_df[\"missing_pct\"] > 0]"
   ]
  },
  {
   "cell_type": "markdown",
   "id": "73ef5305",
   "metadata": {},
   "source": [
    "# Check data quality"
   ]
  },
  {
   "cell_type": "code",
   "execution_count": null,
   "id": "821be89c",
   "metadata": {},
   "outputs": [],
   "source": [
    "property_df.info()"
   ]
  },
  {
   "cell_type": "markdown",
   "id": "726c13f9",
   "metadata": {},
   "source": [
    "### check data types"
   ]
  },
  {
   "cell_type": "code",
   "execution_count": null,
   "id": "5276fe72",
   "metadata": {},
   "outputs": [],
   "source": [
    "expected_types = {\n",
    "     'source': np.dtype('O'),\n",
    "     'title': np.dtype('O'),\n",
    "     'status': np.dtype('O'),\n",
    "     'price': np.dtype('float64'),\n",
    "     'description': np.dtype('O'),\n",
    "     'location_adress': np.dtype('O'),\n",
    "     'location_country': np.dtype('O'),\n",
    "     'location_city': np.dtype('O'),\n",
    "     'location_district': np.dtype('O'),\n",
    "     'location_neighborhood': np.dtype('O'),\n",
    "     'info_reference': np.dtype('int64'),\n",
    "     'info_ad_type': np.dtype('O'),\n",
    "     'info_ad_status': np.dtype('O'),\n",
    "     'info_rooms': np.dtype('float64'),\n",
    "     'info_bedrooms': np.dtype('float64'),\n",
    "     'info_bathrooms': np.dtype('float64'),\n",
    "     'info_garages': np.dtype('int64'),\n",
    "     'info_living_rooms': np.dtype('float64'),\n",
    "     'info_annex_bedrooms': np.dtype('float64'),\n",
    "     'agent_name': np.dtype('O'),\n",
    "     'agent_type': np.dtype('O'),\n",
    "     'agent_mobile': np.dtype('O'),\n",
    "     'agent_email': np.dtype('O'),\n",
    "     'ratings_average': np.dtype('float64'),\n",
    "     'ratings_count': np.dtype('int64'),\n",
    "     'ratings_5': np.dtype('float64'),\n",
    "     'ratings_4': np.dtype('float64'),\n",
    "     'ratings_3': np.dtype('float64'),\n",
    "     'ratings_2': np.dtype('float64'),\n",
    "     'ratings_1': np.dtype('float64'),\n",
    "     'property_date': np.dtype('<M8[ns]'),\n",
    "     'info_postal_code': np.dtype('O'),\n",
    "     'info_building_year': np.dtype('float64'),\n",
    "     'info_surface': np.dtype('float64'),\n",
    "     'info_land_surface': np.dtype('float64'),\n",
    "     'info_tag': np.dtype('O'),\n",
    "     'info_dining_room': np.dtype('bool'),\n",
    "     'info_kitchen': np.dtype('bool'),\n",
    "     'info_balcony': np.dtype('int64'),\n",
    "     'info_internet': np.dtype('bool'),\n",
    "     'info_wardrobe': np.dtype('bool'),\n",
    "     'info_kettle': np.dtype('bool'),\n",
    "     'info_chairs': np.dtype('bool'),\n",
    "     'info_water_heater': np.dtype('bool'),\n",
    "     'info_air_conditioner': np.dtype('bool'),\n",
    "     'info_dressers': np.dtype('bool'),\n",
    "     'info_prepaid_electricity': np.dtype('bool'),\n",
    "     'info_iron': np.dtype('bool'),\n",
    "     'info_microwave': np.dtype('bool'),\n",
    "     'info_generator': np.dtype('bool'),\n",
    "     'info_adult_bed': np.dtype('bool'),\n",
    "     'info_fridge': np.dtype('bool'),\n",
    "     'info_tables': np.dtype('bool'),\n",
    "     'info_tv': np.dtype('bool'),\n",
    "     'info_fan': np.dtype('bool'),\n",
    "     'info_washing_machine': np.dtype('bool'),\n",
    "     'info_security': np.dtype('bool'),\n",
    "     'info_box': np.dtype('bool'),\n",
    "     'info_dependencies': np.dtype('bool'),\n",
    "     'info_electricity': np.dtype('bool'),\n",
    "     'info_garden': np.dtype('bool'),\n",
    "     'info_library': np.dtype('bool'),\n",
    "     'info_buffets': np.dtype('bool'),\n",
    "     'info_digital_tv_channels': np.dtype('bool'),\n",
    "     'info_dressing_table': np.dtype('bool'),\n",
    "     'info_fully_equipped_kitchen': np.dtype('bool'),\n",
    "     'info_fully_furnished': np.dtype('bool'),\n",
    "     'info_swimming_pool': np.dtype('bool'),\n",
    "     'currency': np.dtype('O')\n",
    "}\n",
    "dtypes = property_df.dtypes.to_dict()\n",
    "for column, column_type in expected_types.items():\n",
    "    if column_type != dtypes[column]:\n",
    "        print(f\"column {column} should have type {column_type} but has instead type {dtypes[column]}\")"
   ]
  },
  {
   "cell_type": "markdown",
   "id": "0c2e4774",
   "metadata": {},
   "source": [
    "# Store data"
   ]
  },
  {
   "cell_type": "code",
   "execution_count": null,
   "id": "df39c2ac",
   "metadata": {},
   "outputs": [],
   "source": [
    "property_df.to_csv(\"properties_cleaned.csv\", index=None)"
   ]
  },
  {
   "cell_type": "markdown",
   "id": "1805b55d",
   "metadata": {},
   "source": [
    "# Transform data"
   ]
  },
  {
   "cell_type": "code",
   "execution_count": null,
   "id": "60492b0d",
   "metadata": {},
   "outputs": [],
   "source": [
    "property_df = pd.read_csv(\"properties_cleaned.csv\")"
   ]
  },
  {
   "cell_type": "code",
   "execution_count": null,
   "id": "0cb29f7a",
   "metadata": {},
   "outputs": [],
   "source": []
  },
  {
   "cell_type": "markdown",
   "id": "e50b9454",
   "metadata": {},
   "source": [
    "# Visualize data"
   ]
  },
  {
   "cell_type": "code",
   "execution_count": null,
   "id": "a690c809",
   "metadata": {},
   "outputs": [],
   "source": []
  }
 ],
 "metadata": {
  "kernelspec": {
   "display_name": "Python 3 (ipykernel)",
   "language": "python",
   "name": "python3"
  },
  "language_info": {
   "codemirror_mode": {
    "name": "ipython",
    "version": 3
   },
   "file_extension": ".py",
   "mimetype": "text/x-python",
   "name": "python",
   "nbconvert_exporter": "python",
   "pygments_lexer": "ipython3",
   "version": "3.10.6"
  }
 },
 "nbformat": 4,
 "nbformat_minor": 5
}
